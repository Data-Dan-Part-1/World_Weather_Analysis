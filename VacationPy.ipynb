{
 "cells": [
  {
   "cell_type": "code",
   "execution_count": 1,
   "metadata": {},
   "outputs": [],
   "source": [
    "# Import the dependencies.\n",
    "import pandas as pd\n",
    "import gmaps\n",
    "import requests\n",
    "# Import the API key.\n",
    "from config import g_key"
   ]
  },
  {
   "cell_type": "code",
   "execution_count": 2,
   "metadata": {},
   "outputs": [
    {
     "data": {
      "text/html": [
       "<div>\n",
       "<style scoped>\n",
       "    .dataframe tbody tr th:only-of-type {\n",
       "        vertical-align: middle;\n",
       "    }\n",
       "\n",
       "    .dataframe tbody tr th {\n",
       "        vertical-align: top;\n",
       "    }\n",
       "\n",
       "    .dataframe thead th {\n",
       "        text-align: right;\n",
       "    }\n",
       "</style>\n",
       "<table border=\"1\" class=\"dataframe\">\n",
       "  <thead>\n",
       "    <tr style=\"text-align: right;\">\n",
       "      <th></th>\n",
       "      <th>City_ID</th>\n",
       "      <th>City</th>\n",
       "      <th>Country</th>\n",
       "      <th>Date</th>\n",
       "      <th>Lat</th>\n",
       "      <th>Lng</th>\n",
       "      <th>Max Temp</th>\n",
       "      <th>Humidity</th>\n",
       "      <th>Cloudiness</th>\n",
       "      <th>Wind Speed</th>\n",
       "    </tr>\n",
       "  </thead>\n",
       "  <tbody>\n",
       "    <tr>\n",
       "      <th>0</th>\n",
       "      <td>0</td>\n",
       "      <td>Thompson</td>\n",
       "      <td>CA</td>\n",
       "      <td>2020-01-14 04:47:21</td>\n",
       "      <td>55.74</td>\n",
       "      <td>-97.86</td>\n",
       "      <td>-7.60</td>\n",
       "      <td>76</td>\n",
       "      <td>75</td>\n",
       "      <td>6.93</td>\n",
       "    </tr>\n",
       "    <tr>\n",
       "      <th>1</th>\n",
       "      <td>1</td>\n",
       "      <td>Hilo</td>\n",
       "      <td>US</td>\n",
       "      <td>2020-01-14 04:47:21</td>\n",
       "      <td>19.73</td>\n",
       "      <td>-155.09</td>\n",
       "      <td>75.99</td>\n",
       "      <td>86</td>\n",
       "      <td>78</td>\n",
       "      <td>11.01</td>\n",
       "    </tr>\n",
       "    <tr>\n",
       "      <th>2</th>\n",
       "      <td>2</td>\n",
       "      <td>Shingu</td>\n",
       "      <td>JP</td>\n",
       "      <td>2020-01-14 04:47:22</td>\n",
       "      <td>33.73</td>\n",
       "      <td>135.98</td>\n",
       "      <td>55.40</td>\n",
       "      <td>43</td>\n",
       "      <td>40</td>\n",
       "      <td>5.82</td>\n",
       "    </tr>\n",
       "    <tr>\n",
       "      <th>3</th>\n",
       "      <td>3</td>\n",
       "      <td>Vila Velha</td>\n",
       "      <td>BR</td>\n",
       "      <td>2020-01-14 04:46:50</td>\n",
       "      <td>-20.33</td>\n",
       "      <td>-40.29</td>\n",
       "      <td>78.80</td>\n",
       "      <td>88</td>\n",
       "      <td>75</td>\n",
       "      <td>11.41</td>\n",
       "    </tr>\n",
       "    <tr>\n",
       "      <th>4</th>\n",
       "      <td>4</td>\n",
       "      <td>Avarua</td>\n",
       "      <td>CK</td>\n",
       "      <td>2020-01-14 04:47:22</td>\n",
       "      <td>-21.21</td>\n",
       "      <td>-159.78</td>\n",
       "      <td>80.60</td>\n",
       "      <td>78</td>\n",
       "      <td>76</td>\n",
       "      <td>13.87</td>\n",
       "    </tr>\n",
       "  </tbody>\n",
       "</table>\n",
       "</div>"
      ],
      "text/plain": [
       "   City_ID        City Country                 Date    Lat     Lng  Max Temp  \\\n",
       "0        0    Thompson      CA  2020-01-14 04:47:21  55.74  -97.86     -7.60   \n",
       "1        1        Hilo      US  2020-01-14 04:47:21  19.73 -155.09     75.99   \n",
       "2        2      Shingu      JP  2020-01-14 04:47:22  33.73  135.98     55.40   \n",
       "3        3  Vila Velha      BR  2020-01-14 04:46:50 -20.33  -40.29     78.80   \n",
       "4        4      Avarua      CK  2020-01-14 04:47:22 -21.21 -159.78     80.60   \n",
       "\n",
       "   Humidity  Cloudiness  Wind Speed  \n",
       "0        76          75        6.93  \n",
       "1        86          78       11.01  \n",
       "2        43          40        5.82  \n",
       "3        88          75       11.41  \n",
       "4        78          76       13.87  "
      ]
     },
     "execution_count": 2,
     "metadata": {},
     "output_type": "execute_result"
    }
   ],
   "source": [
    "# Store the CSV you saved created in part one into a DataFrame.\n",
    "city_data_df = pd.read_csv(\"weather_data/cities.csv\")\n",
    "city_data_df.head()"
   ]
  },
  {
   "cell_type": "code",
   "execution_count": 5,
   "metadata": {},
   "outputs": [
    {
     "data": {
      "text/plain": [
       "City_ID         int64\n",
       "City           object\n",
       "Country        object\n",
       "Date           object\n",
       "Lat           float64\n",
       "Lng           float64\n",
       "Max Temp      float64\n",
       "Humidity        int64\n",
       "Cloudiness      int64\n",
       "Wind Speed    float64\n",
       "dtype: object"
      ]
     },
     "execution_count": 5,
     "metadata": {},
     "output_type": "execute_result"
    }
   ],
   "source": [
    "city_data_df.dtypes"
   ]
  },
  {
   "cell_type": "code",
   "execution_count": 6,
   "metadata": {},
   "outputs": [],
   "source": [
    "# Configure gmaps to use your Google API key.\n",
    "gmaps.configure(api_key=g_key)"
   ]
  },
  {
   "cell_type": "code",
   "execution_count": 16,
   "metadata": {},
   "outputs": [],
   "source": [
    "# Get the maximum temperature.\n",
    "max_temp = city_data_df[\"Max Temp\"]\n",
    "temps = []\n",
    "for temp in max_temp:\n",
    "    temps.append(max(temp, 0))"
   ]
  },
  {
   "cell_type": "code",
   "execution_count": 30,
   "metadata": {},
   "outputs": [
    {
     "data": {
      "application/vnd.jupyter.widget-view+json": {
       "model_id": "9fce56e7b8e146e6bf8f2aca04b6d7f0",
       "version_major": 2,
       "version_minor": 0
      },
      "text/plain": [
       "Figure(layout=FigureLayout(height='420px'))"
      ]
     },
     "metadata": {},
     "output_type": "display_data"
    }
   ],
   "source": [
    "# Heatmap of temperature\n",
    "# Get the latitude and longitude.\n",
    "locations = city_data_df[[\"Lat\", \"Lng\"]]\n",
    "# Get the maximum temperature.\n",
    "max_temp = city_data_df[\"Max Temp\"]\n",
    "# Assign the figure variable.\n",
    "fig = gmaps.figure(center=(30.0, 31.0), zoom_level=1.5)\n",
    "# Assign the heatmap variable.\n",
    "heat_layer = gmaps.heatmap_layer(locations, weights=[max(temp, 0) for temp in max_temp])\n",
    "# Add the heatmap layer.\n",
    "fig.add_layer(heat_layer)\n",
    "# Call the figure to plot the data.\n",
    "fig"
   ]
  },
  {
   "cell_type": "code",
   "execution_count": 19,
   "metadata": {},
   "outputs": [
    {
     "data": {
      "application/vnd.jupyter.widget-view+json": {
       "model_id": "916a579983ac4a339869c3def43d8cd6",
       "version_major": 2,
       "version_minor": 0
      },
      "text/plain": [
       "Figure(layout=FigureLayout(height='420px'))"
      ]
     },
     "metadata": {},
     "output_type": "display_data"
    }
   ],
   "source": [
    "# Heatmap of percent humidity\n",
    "locations = city_data_df[[\"Lat\", \"Lng\"]]\n",
    "humidity = city_data_df[\"Humidity\"]\n",
    "fig = gmaps.figure(center=(30.0, 31.0), zoom_level=1.5)\n",
    "heat_layer = gmaps.heatmap_layer(locations, weights=humidity, dissipating=False, max_intensity=300, point_radius=4)\n",
    "\n",
    "fig.add_layer(heat_layer)\n",
    "# Call the figure to plot the data.\n",
    "fig"
   ]
  },
  {
   "cell_type": "code",
   "execution_count": 20,
   "metadata": {},
   "outputs": [
    {
     "data": {
      "application/vnd.jupyter.widget-view+json": {
       "model_id": "1eb062eb3b4448c0add62a1bcd5fb693",
       "version_major": 2,
       "version_minor": 0
      },
      "text/plain": [
       "Figure(layout=FigureLayout(height='420px'))"
      ]
     },
     "metadata": {},
     "output_type": "display_data"
    }
   ],
   "source": [
    "# Heatmap of percent humidity\n",
    "locations = city_data_df[[\"Lat\", \"Lng\"]]\n",
    "clouds = city_data_df[\"Cloudiness\"]\n",
    "fig = gmaps.figure(center=(30.0, 31.0), zoom_level=1.5)\n",
    "heat_layer = gmaps.heatmap_layer(locations, weights=clouds, dissipating=False, max_intensity=300, point_radius=4)\n",
    "\n",
    "fig.add_layer(heat_layer)\n",
    "# Call the figure to plot the data.\n",
    "fig"
   ]
  },
  {
   "cell_type": "code",
   "execution_count": 21,
   "metadata": {},
   "outputs": [
    {
     "data": {
      "application/vnd.jupyter.widget-view+json": {
       "model_id": "c88c0ee98f3f46ae893fabefa3644ab3",
       "version_major": 2,
       "version_minor": 0
      },
      "text/plain": [
       "Figure(layout=FigureLayout(height='420px'))"
      ]
     },
     "metadata": {},
     "output_type": "display_data"
    }
   ],
   "source": [
    "# Heatmap of percent humidity\n",
    "locations = city_data_df[[\"Lat\", \"Lng\"]]\n",
    "wind_speed = city_data_df[\"Wind Speed\"]\n",
    "fig = gmaps.figure(center=(30.0, 31.0), zoom_level=1.5)\n",
    "heat_layer = gmaps.heatmap_layer(locations, weights=wind_speed, dissipating=False, max_intensity=300, point_radius=4)\n",
    "\n",
    "fig.add_layer(heat_layer)\n",
    "# Call the figure to plot the data.\n",
    "fig"
   ]
  },
  {
   "cell_type": "code",
   "execution_count": 23,
   "metadata": {},
   "outputs": [
    {
     "name": "stdout",
     "output_type": "stream",
     "text": [
      "What is the minimum temperature you would like for your trip? 75\n",
      "What is the maximum temperature you would like for your trip? 90\n"
     ]
    }
   ],
   "source": [
    "# Ask the customer to add a minimum and maximum temperature value.\n",
    "min_temp = float(input(\"What is the minimum temperature you would like for your trip? \"))\n",
    "max_temp = float(input(\"What is the maximum temperature you would like for your trip? \"))"
   ]
  },
  {
   "cell_type": "code",
   "execution_count": 32,
   "metadata": {},
   "outputs": [
    {
     "data": {
      "text/html": [
       "<div>\n",
       "<style scoped>\n",
       "    .dataframe tbody tr th:only-of-type {\n",
       "        vertical-align: middle;\n",
       "    }\n",
       "\n",
       "    .dataframe tbody tr th {\n",
       "        vertical-align: top;\n",
       "    }\n",
       "\n",
       "    .dataframe thead th {\n",
       "        text-align: right;\n",
       "    }\n",
       "</style>\n",
       "<table border=\"1\" class=\"dataframe\">\n",
       "  <thead>\n",
       "    <tr style=\"text-align: right;\">\n",
       "      <th></th>\n",
       "      <th>City_ID</th>\n",
       "      <th>City</th>\n",
       "      <th>Country</th>\n",
       "      <th>Date</th>\n",
       "      <th>Lat</th>\n",
       "      <th>Lng</th>\n",
       "      <th>Max Temp</th>\n",
       "      <th>Humidity</th>\n",
       "      <th>Cloudiness</th>\n",
       "      <th>Wind Speed</th>\n",
       "    </tr>\n",
       "  </thead>\n",
       "  <tbody>\n",
       "    <tr>\n",
       "      <th>1</th>\n",
       "      <td>1</td>\n",
       "      <td>Hilo</td>\n",
       "      <td>US</td>\n",
       "      <td>2020-01-14 04:47:21</td>\n",
       "      <td>19.73</td>\n",
       "      <td>-155.09</td>\n",
       "      <td>75.99</td>\n",
       "      <td>86</td>\n",
       "      <td>78</td>\n",
       "      <td>11.01</td>\n",
       "    </tr>\n",
       "    <tr>\n",
       "      <th>3</th>\n",
       "      <td>3</td>\n",
       "      <td>Vila Velha</td>\n",
       "      <td>BR</td>\n",
       "      <td>2020-01-14 04:46:50</td>\n",
       "      <td>-20.33</td>\n",
       "      <td>-40.29</td>\n",
       "      <td>78.80</td>\n",
       "      <td>88</td>\n",
       "      <td>75</td>\n",
       "      <td>11.41</td>\n",
       "    </tr>\n",
       "    <tr>\n",
       "      <th>4</th>\n",
       "      <td>4</td>\n",
       "      <td>Avarua</td>\n",
       "      <td>CK</td>\n",
       "      <td>2020-01-14 04:47:22</td>\n",
       "      <td>-21.21</td>\n",
       "      <td>-159.78</td>\n",
       "      <td>80.60</td>\n",
       "      <td>78</td>\n",
       "      <td>76</td>\n",
       "      <td>13.87</td>\n",
       "    </tr>\n",
       "    <tr>\n",
       "      <th>7</th>\n",
       "      <td>7</td>\n",
       "      <td>Carnarvon</td>\n",
       "      <td>AU</td>\n",
       "      <td>2020-01-14 04:37:23</td>\n",
       "      <td>-24.87</td>\n",
       "      <td>113.63</td>\n",
       "      <td>79.84</td>\n",
       "      <td>77</td>\n",
       "      <td>91</td>\n",
       "      <td>17.58</td>\n",
       "    </tr>\n",
       "    <tr>\n",
       "      <th>9</th>\n",
       "      <td>9</td>\n",
       "      <td>Sao Jose Da Coroa Grande</td>\n",
       "      <td>BR</td>\n",
       "      <td>2020-01-14 04:38:15</td>\n",
       "      <td>-8.90</td>\n",
       "      <td>-35.15</td>\n",
       "      <td>80.46</td>\n",
       "      <td>71</td>\n",
       "      <td>28</td>\n",
       "      <td>8.55</td>\n",
       "    </tr>\n",
       "    <tr>\n",
       "      <th>17</th>\n",
       "      <td>17</td>\n",
       "      <td>Sao Joao Da Barra</td>\n",
       "      <td>BR</td>\n",
       "      <td>2020-01-14 04:45:58</td>\n",
       "      <td>-21.64</td>\n",
       "      <td>-41.05</td>\n",
       "      <td>75.11</td>\n",
       "      <td>90</td>\n",
       "      <td>100</td>\n",
       "      <td>9.64</td>\n",
       "    </tr>\n",
       "    <tr>\n",
       "      <th>18</th>\n",
       "      <td>18</td>\n",
       "      <td>Rikitea</td>\n",
       "      <td>PF</td>\n",
       "      <td>2020-01-14 04:47:24</td>\n",
       "      <td>-23.12</td>\n",
       "      <td>-134.97</td>\n",
       "      <td>78.17</td>\n",
       "      <td>82</td>\n",
       "      <td>2</td>\n",
       "      <td>10.83</td>\n",
       "    </tr>\n",
       "    <tr>\n",
       "      <th>22</th>\n",
       "      <td>22</td>\n",
       "      <td>Bandarbeyla</td>\n",
       "      <td>SO</td>\n",
       "      <td>2020-01-14 04:38:20</td>\n",
       "      <td>9.49</td>\n",
       "      <td>50.81</td>\n",
       "      <td>76.10</td>\n",
       "      <td>69</td>\n",
       "      <td>22</td>\n",
       "      <td>21.18</td>\n",
       "    </tr>\n",
       "    <tr>\n",
       "      <th>28</th>\n",
       "      <td>28</td>\n",
       "      <td>New Norfolk</td>\n",
       "      <td>AU</td>\n",
       "      <td>2020-01-14 04:47:27</td>\n",
       "      <td>-42.78</td>\n",
       "      <td>147.06</td>\n",
       "      <td>80.01</td>\n",
       "      <td>44</td>\n",
       "      <td>20</td>\n",
       "      <td>11.41</td>\n",
       "    </tr>\n",
       "    <tr>\n",
       "      <th>33</th>\n",
       "      <td>33</td>\n",
       "      <td>Mount Gambier</td>\n",
       "      <td>AU</td>\n",
       "      <td>2020-01-14 04:47:28</td>\n",
       "      <td>-37.83</td>\n",
       "      <td>140.77</td>\n",
       "      <td>82.40</td>\n",
       "      <td>48</td>\n",
       "      <td>8</td>\n",
       "      <td>13.87</td>\n",
       "    </tr>\n",
       "  </tbody>\n",
       "</table>\n",
       "</div>"
      ],
      "text/plain": [
       "    City_ID                      City Country                 Date    Lat  \\\n",
       "1         1                      Hilo      US  2020-01-14 04:47:21  19.73   \n",
       "3         3                Vila Velha      BR  2020-01-14 04:46:50 -20.33   \n",
       "4         4                    Avarua      CK  2020-01-14 04:47:22 -21.21   \n",
       "7         7                 Carnarvon      AU  2020-01-14 04:37:23 -24.87   \n",
       "9         9  Sao Jose Da Coroa Grande      BR  2020-01-14 04:38:15  -8.90   \n",
       "17       17         Sao Joao Da Barra      BR  2020-01-14 04:45:58 -21.64   \n",
       "18       18                   Rikitea      PF  2020-01-14 04:47:24 -23.12   \n",
       "22       22               Bandarbeyla      SO  2020-01-14 04:38:20   9.49   \n",
       "28       28               New Norfolk      AU  2020-01-14 04:47:27 -42.78   \n",
       "33       33             Mount Gambier      AU  2020-01-14 04:47:28 -37.83   \n",
       "\n",
       "       Lng  Max Temp  Humidity  Cloudiness  Wind Speed  \n",
       "1  -155.09     75.99        86          78       11.01  \n",
       "3   -40.29     78.80        88          75       11.41  \n",
       "4  -159.78     80.60        78          76       13.87  \n",
       "7   113.63     79.84        77          91       17.58  \n",
       "9   -35.15     80.46        71          28        8.55  \n",
       "17  -41.05     75.11        90         100        9.64  \n",
       "18 -134.97     78.17        82           2       10.83  \n",
       "22   50.81     76.10        69          22       21.18  \n",
       "28  147.06     80.01        44          20       11.41  \n",
       "33  140.77     82.40        48           8       13.87  "
      ]
     },
     "execution_count": 32,
     "metadata": {},
     "output_type": "execute_result"
    }
   ],
   "source": [
    "# Filter the dataset to find the cities that fit the criteria.\n",
    "preferred_cities_df = city_data_df.loc[(city_data_df[\"Max Temp\"] <= max_temp) & \\\n",
    "                                       (city_data_df[\"Max Temp\"] >= min_temp)]\n",
    "preferred_cities_df.head(10)"
   ]
  },
  {
   "cell_type": "code",
   "execution_count": 25,
   "metadata": {},
   "outputs": [
    {
     "data": {
      "text/plain": [
       "City_ID       147\n",
       "City          147\n",
       "Country       147\n",
       "Date          147\n",
       "Lat           147\n",
       "Lng           147\n",
       "Max Temp      147\n",
       "Humidity      147\n",
       "Cloudiness    147\n",
       "Wind Speed    147\n",
       "dtype: int64"
      ]
     },
     "execution_count": 25,
     "metadata": {},
     "output_type": "execute_result"
    }
   ],
   "source": [
    "preferred_cities_df.count()"
   ]
  },
  {
   "cell_type": "code",
   "execution_count": 38,
   "metadata": {},
   "outputs": [
    {
     "data": {
      "text/html": [
       "<div>\n",
       "<style scoped>\n",
       "    .dataframe tbody tr th:only-of-type {\n",
       "        vertical-align: middle;\n",
       "    }\n",
       "\n",
       "    .dataframe tbody tr th {\n",
       "        vertical-align: top;\n",
       "    }\n",
       "\n",
       "    .dataframe thead th {\n",
       "        text-align: right;\n",
       "    }\n",
       "</style>\n",
       "<table border=\"1\" class=\"dataframe\">\n",
       "  <thead>\n",
       "    <tr style=\"text-align: right;\">\n",
       "      <th></th>\n",
       "      <th>City</th>\n",
       "      <th>Country</th>\n",
       "      <th>Max Temp</th>\n",
       "      <th>Lat</th>\n",
       "      <th>Lng</th>\n",
       "      <th>Hotel Name</th>\n",
       "    </tr>\n",
       "  </thead>\n",
       "  <tbody>\n",
       "    <tr>\n",
       "      <th>1</th>\n",
       "      <td>Hilo</td>\n",
       "      <td>US</td>\n",
       "      <td>75.99</td>\n",
       "      <td>19.73</td>\n",
       "      <td>-155.09</td>\n",
       "      <td></td>\n",
       "    </tr>\n",
       "    <tr>\n",
       "      <th>3</th>\n",
       "      <td>Vila Velha</td>\n",
       "      <td>BR</td>\n",
       "      <td>78.80</td>\n",
       "      <td>-20.33</td>\n",
       "      <td>-40.29</td>\n",
       "      <td></td>\n",
       "    </tr>\n",
       "    <tr>\n",
       "      <th>4</th>\n",
       "      <td>Avarua</td>\n",
       "      <td>CK</td>\n",
       "      <td>80.60</td>\n",
       "      <td>-21.21</td>\n",
       "      <td>-159.78</td>\n",
       "      <td></td>\n",
       "    </tr>\n",
       "    <tr>\n",
       "      <th>7</th>\n",
       "      <td>Carnarvon</td>\n",
       "      <td>AU</td>\n",
       "      <td>79.84</td>\n",
       "      <td>-24.87</td>\n",
       "      <td>113.63</td>\n",
       "      <td></td>\n",
       "    </tr>\n",
       "    <tr>\n",
       "      <th>9</th>\n",
       "      <td>Sao Jose Da Coroa Grande</td>\n",
       "      <td>BR</td>\n",
       "      <td>80.46</td>\n",
       "      <td>-8.90</td>\n",
       "      <td>-35.15</td>\n",
       "      <td></td>\n",
       "    </tr>\n",
       "    <tr>\n",
       "      <th>...</th>\n",
       "      <td>...</td>\n",
       "      <td>...</td>\n",
       "      <td>...</td>\n",
       "      <td>...</td>\n",
       "      <td>...</td>\n",
       "      <td>...</td>\n",
       "    </tr>\n",
       "    <tr>\n",
       "      <th>550</th>\n",
       "      <td>Ewa Beach</td>\n",
       "      <td>US</td>\n",
       "      <td>78.80</td>\n",
       "      <td>21.32</td>\n",
       "      <td>-158.01</td>\n",
       "      <td></td>\n",
       "    </tr>\n",
       "    <tr>\n",
       "      <th>552</th>\n",
       "      <td>Batemans Bay</td>\n",
       "      <td>AU</td>\n",
       "      <td>77.00</td>\n",
       "      <td>-35.72</td>\n",
       "      <td>150.18</td>\n",
       "      <td></td>\n",
       "    </tr>\n",
       "    <tr>\n",
       "      <th>561</th>\n",
       "      <td>Namatanai</td>\n",
       "      <td>PG</td>\n",
       "      <td>84.06</td>\n",
       "      <td>-3.67</td>\n",
       "      <td>152.43</td>\n",
       "      <td></td>\n",
       "    </tr>\n",
       "    <tr>\n",
       "      <th>563</th>\n",
       "      <td>Nangomba</td>\n",
       "      <td>TZ</td>\n",
       "      <td>78.73</td>\n",
       "      <td>-10.90</td>\n",
       "      <td>38.50</td>\n",
       "      <td></td>\n",
       "    </tr>\n",
       "    <tr>\n",
       "      <th>569</th>\n",
       "      <td>Martapura</td>\n",
       "      <td>ID</td>\n",
       "      <td>87.80</td>\n",
       "      <td>-3.42</td>\n",
       "      <td>114.85</td>\n",
       "      <td></td>\n",
       "    </tr>\n",
       "  </tbody>\n",
       "</table>\n",
       "<p>155 rows × 6 columns</p>\n",
       "</div>"
      ],
      "text/plain": [
       "                         City Country  Max Temp    Lat     Lng Hotel Name\n",
       "1                        Hilo      US     75.99  19.73 -155.09           \n",
       "3                  Vila Velha      BR     78.80 -20.33  -40.29           \n",
       "4                      Avarua      CK     80.60 -21.21 -159.78           \n",
       "7                   Carnarvon      AU     79.84 -24.87  113.63           \n",
       "9    Sao Jose Da Coroa Grande      BR     80.46  -8.90  -35.15           \n",
       "..                        ...     ...       ...    ...     ...        ...\n",
       "550                 Ewa Beach      US     78.80  21.32 -158.01           \n",
       "552              Batemans Bay      AU     77.00 -35.72  150.18           \n",
       "561                 Namatanai      PG     84.06  -3.67  152.43           \n",
       "563                  Nangomba      TZ     78.73 -10.90   38.50           \n",
       "569                 Martapura      ID     87.80  -3.42  114.85           \n",
       "\n",
       "[155 rows x 6 columns]"
      ]
     },
     "execution_count": 38,
     "metadata": {},
     "output_type": "execute_result"
    }
   ],
   "source": [
    "# Create DataFrame called hotel_df to store hotel names along with city, country, max temp, and coordinates.\n",
    "hotel_df = preferred_cities_df[[\"City\", \"Country\", \"Max Temp\", \"Lat\", \"Lng\"]].copy()\n",
    "hotel_df[\"Hotel Name\"] = \"\"\n",
    "hotel_df"
   ]
  },
  {
   "cell_type": "code",
   "execution_count": 40,
   "metadata": {},
   "outputs": [],
   "source": [
    "# Set parameters to search for a hotel.\n",
    "params = {\n",
    "    \"radius\": 5000,\n",
    "    \"type\": \"lodging\",\n",
    "    \"key\": g_key\n",
    "}"
   ]
  },
  {
   "cell_type": "code",
   "execution_count": 47,
   "metadata": {},
   "outputs": [
    {
     "name": "stdout",
     "output_type": "stream",
     "text": [
      "Hotel not found... skipping.\n",
      "Hotel not found... skipping.\n",
      "Hotel not found... skipping.\n",
      "Hotel not found... skipping.\n",
      "Hotel not found... skipping.\n",
      "Hotel not found... skipping.\n",
      "Hotel not found... skipping.\n",
      "Hotel not found... skipping.\n",
      "Hotel not found... skipping.\n"
     ]
    }
   ],
   "source": [
    "# Iterate through the DataFrame.\n",
    "for index, row in hotel_df.iterrows():\n",
    "    # Get the latitude and longitude.\n",
    "    lat = row[\"Lat\"]\n",
    "    lng = row[\"Lng\"]\n",
    "\n",
    "# Add the latitude and longitude to the params dictionary as values to the location key.\n",
    "    params[\"location\"] = f\"{lat},{lng}\"\n",
    "\n",
    "    # Use the search term: \"lodging\" and our latitude and longitude.\n",
    "    base_url = \"https://maps.googleapis.com/maps/api/place/nearbysearch/json\"\n",
    "    # Make request and get the JSON data from the search.\n",
    "    hotels = requests.get(base_url, params=params).json()\n",
    "# Grab the first hotel from the results and store the name.\n",
    "    try:\n",
    "     hotel_df.loc[index, \"Hotel Name\"] = hotels[\"results\"][0][\"name\"]\n",
    "    except (IndexError):\n",
    "     print(\"Hotel not found... skipping.\")"
   ]
  },
  {
   "cell_type": "code",
   "execution_count": 50,
   "metadata": {},
   "outputs": [
    {
     "data": {
      "text/html": [
       "<div>\n",
       "<style scoped>\n",
       "    .dataframe tbody tr th:only-of-type {\n",
       "        vertical-align: middle;\n",
       "    }\n",
       "\n",
       "    .dataframe tbody tr th {\n",
       "        vertical-align: top;\n",
       "    }\n",
       "\n",
       "    .dataframe thead th {\n",
       "        text-align: right;\n",
       "    }\n",
       "</style>\n",
       "<table border=\"1\" class=\"dataframe\">\n",
       "  <thead>\n",
       "    <tr style=\"text-align: right;\">\n",
       "      <th></th>\n",
       "      <th>City</th>\n",
       "      <th>Country</th>\n",
       "      <th>Max Temp</th>\n",
       "      <th>Lat</th>\n",
       "      <th>Lng</th>\n",
       "      <th>Hotel Name</th>\n",
       "    </tr>\n",
       "  </thead>\n",
       "  <tbody>\n",
       "    <tr>\n",
       "      <th>1</th>\n",
       "      <td>Hilo</td>\n",
       "      <td>US</td>\n",
       "      <td>75.99</td>\n",
       "      <td>19.73</td>\n",
       "      <td>-155.09</td>\n",
       "      <td>Hilo Hawaiian Hotel</td>\n",
       "    </tr>\n",
       "    <tr>\n",
       "      <th>3</th>\n",
       "      <td>Vila Velha</td>\n",
       "      <td>BR</td>\n",
       "      <td>78.80</td>\n",
       "      <td>-20.33</td>\n",
       "      <td>-40.29</td>\n",
       "      <td>Hotel Vitória Palace</td>\n",
       "    </tr>\n",
       "    <tr>\n",
       "      <th>4</th>\n",
       "      <td>Avarua</td>\n",
       "      <td>CK</td>\n",
       "      <td>80.60</td>\n",
       "      <td>-21.21</td>\n",
       "      <td>-159.78</td>\n",
       "      <td>Paradise Inn</td>\n",
       "    </tr>\n",
       "    <tr>\n",
       "      <th>7</th>\n",
       "      <td>Carnarvon</td>\n",
       "      <td>AU</td>\n",
       "      <td>79.84</td>\n",
       "      <td>-24.87</td>\n",
       "      <td>113.63</td>\n",
       "      <td>Hospitality Carnarvon</td>\n",
       "    </tr>\n",
       "    <tr>\n",
       "      <th>9</th>\n",
       "      <td>Sao Jose Da Coroa Grande</td>\n",
       "      <td>BR</td>\n",
       "      <td>80.46</td>\n",
       "      <td>-8.90</td>\n",
       "      <td>-35.15</td>\n",
       "      <td>Crôa Mares Hotel</td>\n",
       "    </tr>\n",
       "    <tr>\n",
       "      <th>17</th>\n",
       "      <td>Sao Joao Da Barra</td>\n",
       "      <td>BR</td>\n",
       "      <td>75.11</td>\n",
       "      <td>-21.64</td>\n",
       "      <td>-41.05</td>\n",
       "      <td>Pousada Porto De Canoas</td>\n",
       "    </tr>\n",
       "    <tr>\n",
       "      <th>18</th>\n",
       "      <td>Rikitea</td>\n",
       "      <td>PF</td>\n",
       "      <td>78.17</td>\n",
       "      <td>-23.12</td>\n",
       "      <td>-134.97</td>\n",
       "      <td>Pension Maro'i</td>\n",
       "    </tr>\n",
       "    <tr>\n",
       "      <th>22</th>\n",
       "      <td>Bandarbeyla</td>\n",
       "      <td>SO</td>\n",
       "      <td>76.10</td>\n",
       "      <td>9.49</td>\n",
       "      <td>50.81</td>\n",
       "      <td>REER XOOSHLE GROUP</td>\n",
       "    </tr>\n",
       "    <tr>\n",
       "      <th>28</th>\n",
       "      <td>New Norfolk</td>\n",
       "      <td>AU</td>\n",
       "      <td>80.01</td>\n",
       "      <td>-42.78</td>\n",
       "      <td>147.06</td>\n",
       "      <td>The Shingles Riverside Cottages</td>\n",
       "    </tr>\n",
       "    <tr>\n",
       "      <th>33</th>\n",
       "      <td>Mount Gambier</td>\n",
       "      <td>AU</td>\n",
       "      <td>82.40</td>\n",
       "      <td>-37.83</td>\n",
       "      <td>140.77</td>\n",
       "      <td>Best Western Southgate Motel</td>\n",
       "    </tr>\n",
       "  </tbody>\n",
       "</table>\n",
       "</div>"
      ],
      "text/plain": [
       "                        City Country  Max Temp    Lat     Lng  \\\n",
       "1                       Hilo      US     75.99  19.73 -155.09   \n",
       "3                 Vila Velha      BR     78.80 -20.33  -40.29   \n",
       "4                     Avarua      CK     80.60 -21.21 -159.78   \n",
       "7                  Carnarvon      AU     79.84 -24.87  113.63   \n",
       "9   Sao Jose Da Coroa Grande      BR     80.46  -8.90  -35.15   \n",
       "17         Sao Joao Da Barra      BR     75.11 -21.64  -41.05   \n",
       "18                   Rikitea      PF     78.17 -23.12 -134.97   \n",
       "22               Bandarbeyla      SO     76.10   9.49   50.81   \n",
       "28               New Norfolk      AU     80.01 -42.78  147.06   \n",
       "33             Mount Gambier      AU     82.40 -37.83  140.77   \n",
       "\n",
       "                         Hotel Name  \n",
       "1               Hilo Hawaiian Hotel  \n",
       "3              Hotel Vitória Palace  \n",
       "4                      Paradise Inn  \n",
       "7             Hospitality Carnarvon  \n",
       "9                  Crôa Mares Hotel  \n",
       "17          Pousada Porto De Canoas  \n",
       "18                   Pension Maro'i  \n",
       "22               REER XOOSHLE GROUP  \n",
       "28  The Shingles Riverside Cottages  \n",
       "33     Best Western Southgate Motel  "
      ]
     },
     "execution_count": 50,
     "metadata": {},
     "output_type": "execute_result"
    }
   ],
   "source": [
    "hotel_df.head(10)"
   ]
  },
  {
   "cell_type": "code",
   "execution_count": 54,
   "metadata": {},
   "outputs": [
    {
     "data": {
      "application/vnd.jupyter.widget-view+json": {
       "model_id": "0dcd14522de843e8894e19386d9e9978",
       "version_major": 2,
       "version_minor": 0
      },
      "text/plain": [
       "Figure(layout=FigureLayout(height='420px'))"
      ]
     },
     "metadata": {},
     "output_type": "display_data"
    }
   ],
   "source": [
    "# Add a heatmap of temperature for the vacation spots and marker for each city.\n",
    "locations = hotel_df[[\"Lat\", \"Lng\"]]\n",
    "max_temp = hotel_df[\"Max Temp\"]\n",
    "fig = gmaps.figure(center=(30.0, 31.0), zoom_level=1.5)\n",
    "heat_layer = gmaps.heatmap_layer(locations, weights=max_temp,\n",
    "             dissipating=False, max_intensity=300, point_radius=4)\n",
    "marker_layer = gmaps.marker_layer(locations)\n",
    "fig.add_layer(heat_layer)\n",
    "fig.add_layer(marker_layer)\n",
    "# Call the figure to plot the data.\n",
    "fig"
   ]
  },
  {
   "cell_type": "code",
   "execution_count": 59,
   "metadata": {},
   "outputs": [],
   "source": [
    "info_box_template = \"\"\"\n",
    "<dl>\n",
    "<dt>Hotel Name</dt><dd>{Hotel Name}</dd>\n",
    "<dt>City</dt><dd>{City}</dd>\n",
    "<dt>Country</dt><dd>{Country}</dd>\n",
    "<dt>Max Temp</dt><dd>{Max Temp} °F</dd>\n",
    "</dl>\n",
    "\"\"\""
   ]
  },
  {
   "cell_type": "code",
   "execution_count": 60,
   "metadata": {},
   "outputs": [],
   "source": [
    "# Store the DataFrame Row.\n",
    "hotel_info = [info_box_template.format(**row) for index, row in hotel_df.iterrows()]"
   ]
  },
  {
   "cell_type": "code",
   "execution_count": 61,
   "metadata": {},
   "outputs": [
    {
     "data": {
      "application/vnd.jupyter.widget-view+json": {
       "model_id": "498a8324dde14e8897358582e4dc5301",
       "version_major": 2,
       "version_minor": 0
      },
      "text/plain": [
       "Figure(layout=FigureLayout(height='420px'))"
      ]
     },
     "metadata": {},
     "output_type": "display_data"
    }
   ],
   "source": [
    "# Add a heatmap of temperature for the vacation spots and a pop-up marker for each city.\n",
    "locations = hotel_df[[\"Lat\", \"Lng\"]]\n",
    "max_temp = hotel_df[\"Max Temp\"]\n",
    "fig = gmaps.figure(center=(30.0, 31.0), zoom_level=1.5)\n",
    "heat_layer = gmaps.heatmap_layer(locations, weights=max_temp,dissipating=False,\n",
    "             max_intensity=300, point_radius=4)\n",
    "marker_layer = gmaps.marker_layer(locations, info_box_content=hotel_info)\n",
    "fig.add_layer(heat_layer)\n",
    "fig.add_layer(marker_layer)\n",
    "\n",
    "# Call the figure to plot the data.\n",
    "fig"
   ]
  },
  {
   "cell_type": "code",
   "execution_count": null,
   "metadata": {},
   "outputs": [],
   "source": []
  }
 ],
 "metadata": {
  "kernelspec": {
   "display_name": "PythonData",
   "language": "python",
   "name": "pythondata"
  },
  "language_info": {
   "codemirror_mode": {
    "name": "ipython",
    "version": 3
   },
   "file_extension": ".py",
   "mimetype": "text/x-python",
   "name": "python",
   "nbconvert_exporter": "python",
   "pygments_lexer": "ipython3",
   "version": "3.6.9"
  }
 },
 "nbformat": 4,
 "nbformat_minor": 2
}
